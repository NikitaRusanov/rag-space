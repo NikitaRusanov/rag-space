{
 "cells": [
  {
   "cell_type": "code",
   "execution_count": 20,
   "id": "5ff7fb1a",
   "metadata": {},
   "outputs": [
    {
     "name": "stdout",
     "output_type": "stream",
     "text": [
      "Requirement already satisfied: langchain in /Users/nikitarusanov/miniconda3/lib/python3.12/site-packages (0.3.25)\n",
      "Requirement already satisfied: langchain-community in /Users/nikitarusanov/miniconda3/lib/python3.12/site-packages (0.3.25)\n",
      "Requirement already satisfied: pypdf in /Users/nikitarusanov/miniconda3/lib/python3.12/site-packages (5.6.0)\n",
      "Requirement already satisfied: unstructured in /Users/nikitarusanov/miniconda3/lib/python3.12/site-packages (0.17.2)\n",
      "Requirement already satisfied: pdfminer in /Users/nikitarusanov/miniconda3/lib/python3.12/site-packages (20191125)\n",
      "Requirement already satisfied: pymupdf in /Users/nikitarusanov/miniconda3/lib/python3.12/site-packages (1.26.1)\n",
      "Requirement already satisfied: openai in /Users/nikitarusanov/miniconda3/lib/python3.12/site-packages (1.86.0)\n",
      "Requirement already satisfied: tiktoken in /Users/nikitarusanov/miniconda3/lib/python3.12/site-packages (0.9.0)\n",
      "Requirement already satisfied: langchain-openai in /Users/nikitarusanov/miniconda3/lib/python3.12/site-packages (0.3.22)\n",
      "Collecting chromadb\n",
      "  Using cached chromadb-1.0.12-cp39-abi3-macosx_11_0_arm64.whl.metadata (6.9 kB)\n",
      "Requirement already satisfied: langchain-core<1.0.0,>=0.3.58 in /Users/nikitarusanov/miniconda3/lib/python3.12/site-packages (from langchain) (0.3.65)\n",
      "Requirement already satisfied: langchain-text-splitters<1.0.0,>=0.3.8 in /Users/nikitarusanov/miniconda3/lib/python3.12/site-packages (from langchain) (0.3.8)\n",
      "Requirement already satisfied: langsmith<0.4,>=0.1.17 in /Users/nikitarusanov/miniconda3/lib/python3.12/site-packages (from langchain) (0.3.45)\n",
      "Requirement already satisfied: pydantic<3.0.0,>=2.7.4 in /Users/nikitarusanov/miniconda3/lib/python3.12/site-packages (from langchain) (2.11.5)\n",
      "Requirement already satisfied: SQLAlchemy<3,>=1.4 in /Users/nikitarusanov/miniconda3/lib/python3.12/site-packages (from langchain) (2.0.41)\n",
      "Requirement already satisfied: requests<3,>=2 in /Users/nikitarusanov/miniconda3/lib/python3.12/site-packages (from langchain) (2.32.3)\n",
      "Requirement already satisfied: PyYAML>=5.3 in /Users/nikitarusanov/miniconda3/lib/python3.12/site-packages (from langchain) (6.0.2)\n",
      "Requirement already satisfied: aiohttp<4.0.0,>=3.8.3 in /Users/nikitarusanov/miniconda3/lib/python3.12/site-packages (from langchain-community) (3.12.12)\n",
      "Requirement already satisfied: tenacity!=8.4.0,<10,>=8.1.0 in /Users/nikitarusanov/miniconda3/lib/python3.12/site-packages (from langchain-community) (9.1.2)\n",
      "Requirement already satisfied: dataclasses-json<0.7,>=0.5.7 in /Users/nikitarusanov/miniconda3/lib/python3.12/site-packages (from langchain-community) (0.6.7)\n",
      "Requirement already satisfied: pydantic-settings<3.0.0,>=2.4.0 in /Users/nikitarusanov/miniconda3/lib/python3.12/site-packages (from langchain-community) (2.9.1)\n",
      "Requirement already satisfied: httpx-sse<1.0.0,>=0.4.0 in /Users/nikitarusanov/miniconda3/lib/python3.12/site-packages (from langchain-community) (0.4.0)\n",
      "Requirement already satisfied: numpy>=1.26.2 in /Users/nikitarusanov/miniconda3/lib/python3.12/site-packages (from langchain-community) (1.26.4)\n",
      "Requirement already satisfied: chardet in /Users/nikitarusanov/miniconda3/lib/python3.12/site-packages (from unstructured) (5.2.0)\n",
      "Requirement already satisfied: filetype in /Users/nikitarusanov/miniconda3/lib/python3.12/site-packages (from unstructured) (1.2.0)\n",
      "Requirement already satisfied: python-magic in /Users/nikitarusanov/miniconda3/lib/python3.12/site-packages (from unstructured) (0.4.27)\n",
      "Requirement already satisfied: lxml in /Users/nikitarusanov/miniconda3/lib/python3.12/site-packages (from unstructured) (5.4.0)\n",
      "Requirement already satisfied: nltk in /Users/nikitarusanov/miniconda3/lib/python3.12/site-packages (from unstructured) (3.9.1)\n",
      "Requirement already satisfied: beautifulsoup4 in /Users/nikitarusanov/miniconda3/lib/python3.12/site-packages (from unstructured) (4.13.4)\n",
      "Requirement already satisfied: emoji in /Users/nikitarusanov/miniconda3/lib/python3.12/site-packages (from unstructured) (2.14.1)\n",
      "Requirement already satisfied: python-iso639 in /Users/nikitarusanov/miniconda3/lib/python3.12/site-packages (from unstructured) (2025.2.18)\n",
      "Requirement already satisfied: langdetect in /Users/nikitarusanov/miniconda3/lib/python3.12/site-packages (from unstructured) (1.0.9)\n",
      "Requirement already satisfied: rapidfuzz in /Users/nikitarusanov/miniconda3/lib/python3.12/site-packages (from unstructured) (3.13.0)\n",
      "Requirement already satisfied: backoff in /Users/nikitarusanov/miniconda3/lib/python3.12/site-packages (from unstructured) (2.2.1)\n",
      "Requirement already satisfied: typing-extensions in /Users/nikitarusanov/miniconda3/lib/python3.12/site-packages (from unstructured) (4.12.2)\n",
      "Requirement already satisfied: unstructured-client in /Users/nikitarusanov/miniconda3/lib/python3.12/site-packages (from unstructured) (0.36.0)\n",
      "Requirement already satisfied: wrapt in /Users/nikitarusanov/miniconda3/lib/python3.12/site-packages (from unstructured) (1.17.0)\n",
      "Requirement already satisfied: tqdm in /Users/nikitarusanov/miniconda3/lib/python3.12/site-packages (from unstructured) (4.67.1)\n",
      "Requirement already satisfied: psutil in /Users/nikitarusanov/miniconda3/lib/python3.12/site-packages (from unstructured) (5.9.0)\n",
      "Requirement already satisfied: python-oxmsg in /Users/nikitarusanov/miniconda3/lib/python3.12/site-packages (from unstructured) (0.0.2)\n",
      "Requirement already satisfied: html5lib in /Users/nikitarusanov/miniconda3/lib/python3.12/site-packages (from unstructured) (1.1)\n",
      "Requirement already satisfied: pycryptodome in /Users/nikitarusanov/miniconda3/lib/python3.12/site-packages (from pdfminer) (3.23.0)\n",
      "Requirement already satisfied: anyio<5,>=3.5.0 in /Users/nikitarusanov/miniconda3/lib/python3.12/site-packages (from openai) (4.9.0)\n",
      "Requirement already satisfied: distro<2,>=1.7.0 in /Users/nikitarusanov/miniconda3/lib/python3.12/site-packages (from openai) (1.9.0)\n",
      "Requirement already satisfied: httpx<1,>=0.23.0 in /Users/nikitarusanov/miniconda3/lib/python3.12/site-packages (from openai) (0.28.1)\n",
      "Requirement already satisfied: jiter<1,>=0.4.0 in /Users/nikitarusanov/miniconda3/lib/python3.12/site-packages (from openai) (0.10.0)\n",
      "Requirement already satisfied: sniffio in /Users/nikitarusanov/miniconda3/lib/python3.12/site-packages (from openai) (1.3.1)\n",
      "Requirement already satisfied: regex>=2022.1.18 in /Users/nikitarusanov/miniconda3/lib/python3.12/site-packages (from tiktoken) (2024.11.6)\n",
      "Collecting build>=1.0.3 (from chromadb)\n",
      "  Using cached build-1.2.2.post1-py3-none-any.whl.metadata (6.5 kB)\n",
      "Collecting fastapi==0.115.9 (from chromadb)\n",
      "  Using cached fastapi-0.115.9-py3-none-any.whl.metadata (27 kB)\n",
      "Collecting uvicorn>=0.18.3 (from uvicorn[standard]>=0.18.3->chromadb)\n",
      "  Using cached uvicorn-0.34.3-py3-none-any.whl.metadata (6.5 kB)\n",
      "Collecting posthog>=2.4.0 (from chromadb)\n",
      "  Using cached posthog-4.8.0-py3-none-any.whl.metadata (5.9 kB)\n",
      "Collecting onnxruntime>=1.14.1 (from chromadb)\n",
      "  Using cached onnxruntime-1.22.0-cp312-cp312-macosx_13_0_universal2.whl.metadata (4.5 kB)\n",
      "Collecting opentelemetry-api>=1.2.0 (from chromadb)\n",
      "  Using cached opentelemetry_api-1.34.1-py3-none-any.whl.metadata (1.5 kB)\n",
      "Collecting opentelemetry-exporter-otlp-proto-grpc>=1.2.0 (from chromadb)\n",
      "  Using cached opentelemetry_exporter_otlp_proto_grpc-1.34.1-py3-none-any.whl.metadata (2.4 kB)\n",
      "Collecting opentelemetry-instrumentation-fastapi>=0.41b0 (from chromadb)\n",
      "  Using cached opentelemetry_instrumentation_fastapi-0.55b1-py3-none-any.whl.metadata (2.2 kB)\n",
      "Collecting opentelemetry-sdk>=1.2.0 (from chromadb)\n",
      "  Using cached opentelemetry_sdk-1.34.1-py3-none-any.whl.metadata (1.6 kB)\n",
      "Collecting tokenizers>=0.13.2 (from chromadb)\n",
      "  Using cached tokenizers-0.21.1-cp39-abi3-macosx_11_0_arm64.whl.metadata (6.8 kB)\n",
      "Collecting pypika>=0.48.9 (from chromadb)\n",
      "  Using cached PyPika-0.48.9.tar.gz (67 kB)\n",
      "  Installing build dependencies ... \u001b[?25ldone\n",
      "\u001b[?25h  Getting requirements to build wheel ... \u001b[?25ldone\n",
      "\u001b[?25h  Preparing metadata (pyproject.toml) ... \u001b[?25ldone\n",
      "\u001b[?25hCollecting overrides>=7.3.1 (from chromadb)\n",
      "  Using cached overrides-7.7.0-py3-none-any.whl.metadata (5.8 kB)\n",
      "Collecting importlib-resources (from chromadb)\n",
      "  Using cached importlib_resources-6.5.2-py3-none-any.whl.metadata (3.9 kB)\n",
      "Collecting grpcio>=1.58.0 (from chromadb)\n",
      "  Using cached grpcio-1.73.0-cp312-cp312-macosx_11_0_universal2.whl.metadata (3.8 kB)\n",
      "Collecting bcrypt>=4.0.1 (from chromadb)\n",
      "  Using cached bcrypt-4.3.0-cp39-abi3-macosx_10_12_universal2.whl.metadata (10 kB)\n",
      "Collecting typer>=0.9.0 (from chromadb)\n",
      "  Using cached typer-0.16.0-py3-none-any.whl.metadata (15 kB)\n",
      "Collecting kubernetes>=28.1.0 (from chromadb)\n",
      "  Using cached kubernetes-33.1.0-py2.py3-none-any.whl.metadata (1.7 kB)\n",
      "Collecting mmh3>=4.0.1 (from chromadb)\n",
      "  Using cached mmh3-5.1.0-cp312-cp312-macosx_11_0_arm64.whl.metadata (16 kB)\n",
      "Requirement already satisfied: orjson>=3.9.12 in /Users/nikitarusanov/miniconda3/lib/python3.12/site-packages (from chromadb) (3.10.18)\n",
      "Requirement already satisfied: rich>=10.11.0 in /Users/nikitarusanov/miniconda3/lib/python3.12/site-packages (from chromadb) (13.9.4)\n",
      "Collecting jsonschema>=4.19.0 (from chromadb)\n",
      "  Using cached jsonschema-4.24.0-py3-none-any.whl.metadata (7.8 kB)\n",
      "Collecting starlette<0.46.0,>=0.40.0 (from fastapi==0.115.9->chromadb)\n",
      "  Using cached starlette-0.45.3-py3-none-any.whl.metadata (6.3 kB)\n",
      "Requirement already satisfied: aiohappyeyeballs>=2.5.0 in /Users/nikitarusanov/miniconda3/lib/python3.12/site-packages (from aiohttp<4.0.0,>=3.8.3->langchain-community) (2.6.1)\n",
      "Requirement already satisfied: aiosignal>=1.1.2 in /Users/nikitarusanov/miniconda3/lib/python3.12/site-packages (from aiohttp<4.0.0,>=3.8.3->langchain-community) (1.3.2)\n",
      "Requirement already satisfied: attrs>=17.3.0 in /Users/nikitarusanov/miniconda3/lib/python3.12/site-packages (from aiohttp<4.0.0,>=3.8.3->langchain-community) (25.3.0)\n",
      "Requirement already satisfied: frozenlist>=1.1.1 in /Users/nikitarusanov/miniconda3/lib/python3.12/site-packages (from aiohttp<4.0.0,>=3.8.3->langchain-community) (1.7.0)\n",
      "Requirement already satisfied: multidict<7.0,>=4.5 in /Users/nikitarusanov/miniconda3/lib/python3.12/site-packages (from aiohttp<4.0.0,>=3.8.3->langchain-community) (6.4.4)\n",
      "Requirement already satisfied: propcache>=0.2.0 in /Users/nikitarusanov/miniconda3/lib/python3.12/site-packages (from aiohttp<4.0.0,>=3.8.3->langchain-community) (0.3.2)\n",
      "Requirement already satisfied: yarl<2.0,>=1.17.0 in /Users/nikitarusanov/miniconda3/lib/python3.12/site-packages (from aiohttp<4.0.0,>=3.8.3->langchain-community) (1.20.1)\n",
      "Requirement already satisfied: idna>=2.8 in /Users/nikitarusanov/miniconda3/lib/python3.12/site-packages (from anyio<5,>=3.5.0->openai) (3.7)\n",
      "Requirement already satisfied: packaging>=19.1 in /Users/nikitarusanov/miniconda3/lib/python3.12/site-packages (from build>=1.0.3->chromadb) (24.2)\n",
      "Collecting pyproject_hooks (from build>=1.0.3->chromadb)\n",
      "  Using cached pyproject_hooks-1.2.0-py3-none-any.whl.metadata (1.3 kB)\n",
      "Requirement already satisfied: marshmallow<4.0.0,>=3.18.0 in /Users/nikitarusanov/miniconda3/lib/python3.12/site-packages (from dataclasses-json<0.7,>=0.5.7->langchain-community) (3.26.1)\n",
      "Requirement already satisfied: typing-inspect<1,>=0.4.0 in /Users/nikitarusanov/miniconda3/lib/python3.12/site-packages (from dataclasses-json<0.7,>=0.5.7->langchain-community) (0.9.0)\n",
      "Requirement already satisfied: certifi in /Users/nikitarusanov/miniconda3/lib/python3.12/site-packages (from httpx<1,>=0.23.0->openai) (2025.1.31)\n",
      "Requirement already satisfied: httpcore==1.* in /Users/nikitarusanov/miniconda3/lib/python3.12/site-packages (from httpx<1,>=0.23.0->openai) (1.0.9)\n",
      "Requirement already satisfied: h11>=0.16 in /Users/nikitarusanov/miniconda3/lib/python3.12/site-packages (from httpcore==1.*->httpx<1,>=0.23.0->openai) (0.16.0)\n",
      "Collecting jsonschema-specifications>=2023.03.6 (from jsonschema>=4.19.0->chromadb)\n",
      "  Using cached jsonschema_specifications-2025.4.1-py3-none-any.whl.metadata (2.9 kB)\n",
      "Collecting referencing>=0.28.4 (from jsonschema>=4.19.0->chromadb)\n",
      "  Using cached referencing-0.36.2-py3-none-any.whl.metadata (2.8 kB)\n",
      "Collecting rpds-py>=0.7.1 (from jsonschema>=4.19.0->chromadb)\n",
      "  Using cached rpds_py-0.25.1-cp312-cp312-macosx_11_0_arm64.whl.metadata (4.1 kB)\n",
      "Requirement already satisfied: six>=1.9.0 in /Users/nikitarusanov/miniconda3/lib/python3.12/site-packages (from kubernetes>=28.1.0->chromadb) (1.17.0)\n",
      "Requirement already satisfied: python-dateutil>=2.5.3 in /Users/nikitarusanov/miniconda3/lib/python3.12/site-packages (from kubernetes>=28.1.0->chromadb) (2.9.0.post0)\n",
      "Collecting google-auth>=1.0.1 (from kubernetes>=28.1.0->chromadb)\n",
      "  Using cached google_auth-2.40.3-py2.py3-none-any.whl.metadata (6.2 kB)\n",
      "Collecting websocket-client!=0.40.0,!=0.41.*,!=0.42.*,>=0.32.0 (from kubernetes>=28.1.0->chromadb)\n",
      "  Using cached websocket_client-1.8.0-py3-none-any.whl.metadata (8.0 kB)\n",
      "Collecting requests-oauthlib (from kubernetes>=28.1.0->chromadb)\n",
      "  Using cached requests_oauthlib-2.0.0-py2.py3-none-any.whl.metadata (11 kB)\n",
      "Collecting oauthlib>=3.2.2 (from kubernetes>=28.1.0->chromadb)\n",
      "  Using cached oauthlib-3.2.2-py3-none-any.whl.metadata (7.5 kB)\n",
      "Requirement already satisfied: urllib3>=1.24.2 in /Users/nikitarusanov/miniconda3/lib/python3.12/site-packages (from kubernetes>=28.1.0->chromadb) (2.3.0)\n",
      "Collecting durationpy>=0.7 (from kubernetes>=28.1.0->chromadb)\n",
      "  Using cached durationpy-0.10-py3-none-any.whl.metadata (340 bytes)\n",
      "Requirement already satisfied: jsonpatch<2.0,>=1.33 in /Users/nikitarusanov/miniconda3/lib/python3.12/site-packages (from langchain-core<1.0.0,>=0.3.58->langchain) (1.33)\n",
      "Requirement already satisfied: requests-toolbelt<2.0.0,>=1.0.0 in /Users/nikitarusanov/miniconda3/lib/python3.12/site-packages (from langsmith<0.4,>=0.1.17->langchain) (1.0.0)\n",
      "Requirement already satisfied: zstandard<0.24.0,>=0.23.0 in /Users/nikitarusanov/miniconda3/lib/python3.12/site-packages (from langsmith<0.4,>=0.1.17->langchain) (0.23.0)\n",
      "Collecting coloredlogs (from onnxruntime>=1.14.1->chromadb)\n",
      "  Using cached coloredlogs-15.0.1-py2.py3-none-any.whl.metadata (12 kB)\n",
      "Collecting flatbuffers (from onnxruntime>=1.14.1->chromadb)\n",
      "  Using cached flatbuffers-25.2.10-py2.py3-none-any.whl.metadata (875 bytes)\n",
      "Collecting protobuf (from onnxruntime>=1.14.1->chromadb)\n",
      "  Using cached protobuf-6.31.1-cp39-abi3-macosx_10_9_universal2.whl.metadata (593 bytes)\n",
      "Requirement already satisfied: sympy in /Users/nikitarusanov/miniconda3/lib/python3.12/site-packages (from onnxruntime>=1.14.1->chromadb) (1.13.1)\n",
      "Requirement already satisfied: importlib-metadata<8.8.0,>=6.0 in /Users/nikitarusanov/miniconda3/lib/python3.12/site-packages (from opentelemetry-api>=1.2.0->chromadb) (8.6.1)\n",
      "Collecting googleapis-common-protos~=1.52 (from opentelemetry-exporter-otlp-proto-grpc>=1.2.0->chromadb)\n",
      "  Using cached googleapis_common_protos-1.70.0-py3-none-any.whl.metadata (9.3 kB)\n",
      "Collecting opentelemetry-exporter-otlp-proto-common==1.34.1 (from opentelemetry-exporter-otlp-proto-grpc>=1.2.0->chromadb)\n",
      "  Using cached opentelemetry_exporter_otlp_proto_common-1.34.1-py3-none-any.whl.metadata (1.9 kB)\n",
      "Collecting opentelemetry-proto==1.34.1 (from opentelemetry-exporter-otlp-proto-grpc>=1.2.0->chromadb)\n",
      "  Using cached opentelemetry_proto-1.34.1-py3-none-any.whl.metadata (2.4 kB)\n",
      "Collecting protobuf (from onnxruntime>=1.14.1->chromadb)\n",
      "  Using cached protobuf-5.29.5-cp38-abi3-macosx_10_9_universal2.whl.metadata (592 bytes)\n",
      "Collecting opentelemetry-instrumentation-asgi==0.55b1 (from opentelemetry-instrumentation-fastapi>=0.41b0->chromadb)\n",
      "  Using cached opentelemetry_instrumentation_asgi-0.55b1-py3-none-any.whl.metadata (2.0 kB)\n",
      "Collecting opentelemetry-instrumentation==0.55b1 (from opentelemetry-instrumentation-fastapi>=0.41b0->chromadb)\n",
      "  Using cached opentelemetry_instrumentation-0.55b1-py3-none-any.whl.metadata (6.7 kB)\n",
      "Collecting opentelemetry-semantic-conventions==0.55b1 (from opentelemetry-instrumentation-fastapi>=0.41b0->chromadb)\n",
      "  Using cached opentelemetry_semantic_conventions-0.55b1-py3-none-any.whl.metadata (2.5 kB)\n",
      "Collecting opentelemetry-util-http==0.55b1 (from opentelemetry-instrumentation-fastapi>=0.41b0->chromadb)\n",
      "  Using cached opentelemetry_util_http-0.55b1-py3-none-any.whl.metadata (2.6 kB)\n",
      "Collecting asgiref~=3.0 (from opentelemetry-instrumentation-asgi==0.55b1->opentelemetry-instrumentation-fastapi>=0.41b0->chromadb)\n",
      "  Using cached asgiref-3.8.1-py3-none-any.whl.metadata (9.3 kB)\n",
      "Requirement already satisfied: annotated-types>=0.6.0 in /Users/nikitarusanov/miniconda3/lib/python3.12/site-packages (from pydantic<3.0.0,>=2.7.4->langchain) (0.6.0)\n",
      "Requirement already satisfied: pydantic-core==2.33.2 in /Users/nikitarusanov/miniconda3/lib/python3.12/site-packages (from pydantic<3.0.0,>=2.7.4->langchain) (2.33.2)\n",
      "Requirement already satisfied: typing-inspection>=0.4.0 in /Users/nikitarusanov/miniconda3/lib/python3.12/site-packages (from pydantic<3.0.0,>=2.7.4->langchain) (0.4.1)\n",
      "Requirement already satisfied: python-dotenv>=0.21.0 in /Users/nikitarusanov/miniconda3/lib/python3.12/site-packages (from pydantic-settings<3.0.0,>=2.4.0->langchain-community) (1.1.0)\n",
      "Requirement already satisfied: charset-normalizer<4,>=2 in /Users/nikitarusanov/miniconda3/lib/python3.12/site-packages (from requests<3,>=2->langchain) (3.3.2)\n",
      "Requirement already satisfied: markdown-it-py>=2.2.0 in /Users/nikitarusanov/miniconda3/lib/python3.12/site-packages (from rich>=10.11.0->chromadb) (2.2.0)\n",
      "Requirement already satisfied: pygments<3.0.0,>=2.13.0 in /Users/nikitarusanov/miniconda3/lib/python3.12/site-packages (from rich>=10.11.0->chromadb) (2.15.1)\n",
      "Collecting huggingface-hub<1.0,>=0.16.4 (from tokenizers>=0.13.2->chromadb)\n",
      "  Using cached huggingface_hub-0.33.0-py3-none-any.whl.metadata (14 kB)\n",
      "Requirement already satisfied: click>=8.0.0 in /Users/nikitarusanov/miniconda3/lib/python3.12/site-packages (from typer>=0.9.0->chromadb) (8.1.8)\n",
      "Collecting shellingham>=1.3.0 (from typer>=0.9.0->chromadb)\n",
      "  Using cached shellingham-1.5.4-py2.py3-none-any.whl.metadata (3.5 kB)\n",
      "Collecting httptools>=0.6.3 (from uvicorn[standard]>=0.18.3->chromadb)\n",
      "  Using cached httptools-0.6.4-cp312-cp312-macosx_11_0_arm64.whl.metadata (3.6 kB)\n",
      "Collecting uvloop>=0.15.1 (from uvicorn[standard]>=0.18.3->chromadb)\n",
      "  Using cached uvloop-0.21.0-cp312-cp312-macosx_10_13_universal2.whl.metadata (4.9 kB)\n",
      "Collecting watchfiles>=0.13 (from uvicorn[standard]>=0.18.3->chromadb)\n",
      "  Using cached watchfiles-1.0.5-cp312-cp312-macosx_11_0_arm64.whl.metadata (4.9 kB)\n",
      "Collecting websockets>=10.4 (from uvicorn[standard]>=0.18.3->chromadb)\n",
      "  Using cached websockets-15.0.1-cp312-cp312-macosx_11_0_arm64.whl.metadata (6.8 kB)\n",
      "Requirement already satisfied: soupsieve>1.2 in /Users/nikitarusanov/miniconda3/lib/python3.12/site-packages (from beautifulsoup4->unstructured) (2.7)\n",
      "Requirement already satisfied: webencodings in /Users/nikitarusanov/miniconda3/lib/python3.12/site-packages (from html5lib->unstructured) (0.5.1)\n",
      "Requirement already satisfied: joblib in /Users/nikitarusanov/miniconda3/lib/python3.12/site-packages (from nltk->unstructured) (1.4.2)\n",
      "Requirement already satisfied: olefile in /Users/nikitarusanov/miniconda3/lib/python3.12/site-packages (from python-oxmsg->unstructured) (0.47)\n",
      "Requirement already satisfied: aiofiles>=24.1.0 in /Users/nikitarusanov/miniconda3/lib/python3.12/site-packages (from unstructured-client->unstructured) (24.1.0)\n",
      "Requirement already satisfied: cryptography>=3.1 in /Users/nikitarusanov/miniconda3/lib/python3.12/site-packages (from unstructured-client->unstructured) (43.0.3)\n",
      "Requirement already satisfied: nest-asyncio>=1.6.0 in /Users/nikitarusanov/miniconda3/lib/python3.12/site-packages (from unstructured-client->unstructured) (1.6.0)\n",
      "Requirement already satisfied: cffi>=1.12 in /Users/nikitarusanov/miniconda3/lib/python3.12/site-packages (from cryptography>=3.1->unstructured-client->unstructured) (1.17.1)\n",
      "Collecting cachetools<6.0,>=2.0.0 (from google-auth>=1.0.1->kubernetes>=28.1.0->chromadb)\n",
      "  Using cached cachetools-5.5.2-py3-none-any.whl.metadata (5.4 kB)\n",
      "Collecting pyasn1-modules>=0.2.1 (from google-auth>=1.0.1->kubernetes>=28.1.0->chromadb)\n",
      "  Using cached pyasn1_modules-0.4.2-py3-none-any.whl.metadata (3.5 kB)\n",
      "Collecting rsa<5,>=3.1.4 (from google-auth>=1.0.1->kubernetes>=28.1.0->chromadb)\n",
      "  Using cached rsa-4.9.1-py3-none-any.whl.metadata (5.6 kB)\n",
      "Requirement already satisfied: filelock in /Users/nikitarusanov/miniconda3/lib/python3.12/site-packages (from huggingface-hub<1.0,>=0.16.4->tokenizers>=0.13.2->chromadb) (3.18.0)\n",
      "Requirement already satisfied: fsspec>=2023.5.0 in /Users/nikitarusanov/miniconda3/lib/python3.12/site-packages (from huggingface-hub<1.0,>=0.16.4->tokenizers>=0.13.2->chromadb) (2025.3.0)\n",
      "Collecting hf-xet<2.0.0,>=1.1.2 (from huggingface-hub<1.0,>=0.16.4->tokenizers>=0.13.2->chromadb)\n",
      "  Using cached hf_xet-1.1.3-cp37-abi3-macosx_11_0_arm64.whl.metadata (879 bytes)\n",
      "Requirement already satisfied: zipp>=3.20 in /Users/nikitarusanov/miniconda3/lib/python3.12/site-packages (from importlib-metadata<8.8.0,>=6.0->opentelemetry-api>=1.2.0->chromadb) (3.21.0)\n",
      "Requirement already satisfied: jsonpointer>=1.9 in /Users/nikitarusanov/miniconda3/lib/python3.12/site-packages (from jsonpatch<2.0,>=1.33->langchain-core<1.0.0,>=0.3.58->langchain) (2.1)\n",
      "Requirement already satisfied: mdurl~=0.1 in /Users/nikitarusanov/miniconda3/lib/python3.12/site-packages (from markdown-it-py>=2.2.0->rich>=10.11.0->chromadb) (0.1.0)\n",
      "Requirement already satisfied: mypy-extensions>=0.3.0 in /Users/nikitarusanov/miniconda3/lib/python3.12/site-packages (from typing-inspect<1,>=0.4.0->dataclasses-json<0.7,>=0.5.7->langchain-community) (1.1.0)\n",
      "Collecting humanfriendly>=9.1 (from coloredlogs->onnxruntime>=1.14.1->chromadb)\n",
      "  Using cached humanfriendly-10.0-py2.py3-none-any.whl.metadata (9.2 kB)\n",
      "Requirement already satisfied: mpmath<1.4,>=1.1.0 in /Users/nikitarusanov/miniconda3/lib/python3.12/site-packages (from sympy->onnxruntime>=1.14.1->chromadb) (1.3.0)\n",
      "Requirement already satisfied: pycparser in /Users/nikitarusanov/miniconda3/lib/python3.12/site-packages (from cffi>=1.12->cryptography>=3.1->unstructured-client->unstructured) (2.21)\n",
      "Collecting pyasn1<0.7.0,>=0.6.1 (from pyasn1-modules>=0.2.1->google-auth>=1.0.1->kubernetes>=28.1.0->chromadb)\n",
      "  Using cached pyasn1-0.6.1-py3-none-any.whl.metadata (8.4 kB)\n",
      "Using cached chromadb-1.0.12-cp39-abi3-macosx_11_0_arm64.whl (17.9 MB)\n",
      "Using cached fastapi-0.115.9-py3-none-any.whl (94 kB)\n",
      "Using cached bcrypt-4.3.0-cp39-abi3-macosx_10_12_universal2.whl (498 kB)\n",
      "Using cached build-1.2.2.post1-py3-none-any.whl (22 kB)\n",
      "Using cached grpcio-1.73.0-cp312-cp312-macosx_11_0_universal2.whl (10.6 MB)\n",
      "Using cached jsonschema-4.24.0-py3-none-any.whl (88 kB)\n",
      "Using cached kubernetes-33.1.0-py2.py3-none-any.whl (1.9 MB)\n",
      "Using cached mmh3-5.1.0-cp312-cp312-macosx_11_0_arm64.whl (40 kB)\n",
      "Using cached onnxruntime-1.22.0-cp312-cp312-macosx_13_0_universal2.whl (34.3 MB)\n",
      "Using cached opentelemetry_api-1.34.1-py3-none-any.whl (65 kB)\n",
      "Using cached opentelemetry_exporter_otlp_proto_grpc-1.34.1-py3-none-any.whl (18 kB)\n",
      "Using cached opentelemetry_exporter_otlp_proto_common-1.34.1-py3-none-any.whl (18 kB)\n",
      "Using cached opentelemetry_proto-1.34.1-py3-none-any.whl (55 kB)\n",
      "Using cached opentelemetry_instrumentation_fastapi-0.55b1-py3-none-any.whl (12 kB)\n",
      "Using cached opentelemetry_instrumentation-0.55b1-py3-none-any.whl (31 kB)\n",
      "Downloading opentelemetry_instrumentation_asgi-0.55b1-py3-none-any.whl (16 kB)\n",
      "Downloading opentelemetry_semantic_conventions-0.55b1-py3-none-any.whl (196 kB)\n",
      "Downloading opentelemetry_util_http-0.55b1-py3-none-any.whl (7.3 kB)\n",
      "Downloading opentelemetry_sdk-1.34.1-py3-none-any.whl (118 kB)\n",
      "Downloading overrides-7.7.0-py3-none-any.whl (17 kB)\n",
      "Downloading posthog-4.8.0-py3-none-any.whl (102 kB)\n",
      "Downloading tokenizers-0.21.1-cp39-abi3-macosx_11_0_arm64.whl (2.7 MB)\n",
      "\u001b[2K   \u001b[90m━━━━━━━━━━━━━━━━━━━━━━━━━━━━━━━━━━━━━━━━\u001b[0m \u001b[32m2.7/2.7 MB\u001b[0m \u001b[31m383.4 kB/s\u001b[0m eta \u001b[36m0:00:00\u001b[0ma \u001b[36m0:00:01\u001b[0m\n",
      "\u001b[?25hDownloading typer-0.16.0-py3-none-any.whl (46 kB)\n",
      "Downloading uvicorn-0.34.3-py3-none-any.whl (62 kB)\n",
      "Downloading importlib_resources-6.5.2-py3-none-any.whl (37 kB)\n",
      "Downloading durationpy-0.10-py3-none-any.whl (3.9 kB)\n",
      "Downloading google_auth-2.40.3-py2.py3-none-any.whl (216 kB)\n",
      "Downloading googleapis_common_protos-1.70.0-py3-none-any.whl (294 kB)\n",
      "Downloading httptools-0.6.4-cp312-cp312-macosx_11_0_arm64.whl (104 kB)\n",
      "Downloading huggingface_hub-0.33.0-py3-none-any.whl (514 kB)\n",
      "Downloading jsonschema_specifications-2025.4.1-py3-none-any.whl (18 kB)\n",
      "Downloading oauthlib-3.2.2-py3-none-any.whl (151 kB)\n",
      "Downloading protobuf-5.29.5-cp38-abi3-macosx_10_9_universal2.whl (418 kB)\n",
      "Using cached referencing-0.36.2-py3-none-any.whl (26 kB)\n",
      "Downloading rpds_py-0.25.1-cp312-cp312-macosx_11_0_arm64.whl (350 kB)\n",
      "Using cached shellingham-1.5.4-py2.py3-none-any.whl (9.8 kB)\n",
      "Downloading starlette-0.45.3-py3-none-any.whl (71 kB)\n",
      "Downloading uvloop-0.21.0-cp312-cp312-macosx_10_13_universal2.whl (1.5 MB)\n",
      "\u001b[2K   \u001b[90m━━━━━━━━━━━━━━━━━━━━━━━━━━━━━━━━━━━━━━━━\u001b[0m \u001b[32m1.5/1.5 MB\u001b[0m \u001b[31m1.7 MB/s\u001b[0m eta \u001b[36m0:00:00\u001b[0ma \u001b[36m0:00:01\u001b[0m\n",
      "\u001b[?25hDownloading watchfiles-1.0.5-cp312-cp312-macosx_11_0_arm64.whl (392 kB)\n",
      "Downloading websocket_client-1.8.0-py3-none-any.whl (58 kB)\n",
      "Downloading websockets-15.0.1-cp312-cp312-macosx_11_0_arm64.whl (173 kB)\n",
      "Downloading coloredlogs-15.0.1-py2.py3-none-any.whl (46 kB)\n",
      "Downloading flatbuffers-25.2.10-py2.py3-none-any.whl (30 kB)\n",
      "Downloading pyproject_hooks-1.2.0-py3-none-any.whl (10 kB)\n",
      "Downloading requests_oauthlib-2.0.0-py2.py3-none-any.whl (24 kB)\n",
      "Downloading asgiref-3.8.1-py3-none-any.whl (23 kB)\n",
      "Downloading cachetools-5.5.2-py3-none-any.whl (10 kB)\n",
      "Downloading hf_xet-1.1.3-cp37-abi3-macosx_11_0_arm64.whl (2.2 MB)\n",
      "\u001b[2K   \u001b[90m━━━━━━━━━━━━━━━━━━━━━━━━━━━━━━━━━━━━━━━━\u001b[0m \u001b[32m2.2/2.2 MB\u001b[0m \u001b[31m2.0 MB/s\u001b[0m eta \u001b[36m0:00:00\u001b[0ma \u001b[36m0:00:01\u001b[0m\n",
      "\u001b[?25hDownloading humanfriendly-10.0-py2.py3-none-any.whl (86 kB)\n",
      "Downloading pyasn1_modules-0.4.2-py3-none-any.whl (181 kB)\n",
      "Downloading rsa-4.9.1-py3-none-any.whl (34 kB)\n",
      "Downloading pyasn1-0.6.1-py3-none-any.whl (83 kB)\n",
      "Building wheels for collected packages: pypika\n",
      "  Building wheel for pypika (pyproject.toml) ... \u001b[?25ldone\n",
      "\u001b[?25h  Created wheel for pypika: filename=pypika-0.48.9-py2.py3-none-any.whl size=53803 sha256=f7c7bb73216fb995508987a86a942fdc2a7471b7b9dd3750c1f1f328688bfe78\n",
      "  Stored in directory: /Users/nikitarusanov/Library/Caches/pip/wheels/d5/3d/69/8d68d249cd3de2584f226e27fd431d6344f7d70fd856ebd01b\n",
      "Successfully built pypika\n",
      "Installing collected packages: pypika, flatbuffers, durationpy, websockets, websocket-client, uvloop, uvicorn, shellingham, rpds-py, pyproject_hooks, pyasn1, protobuf, overrides, opentelemetry-util-http, oauthlib, mmh3, importlib-resources, humanfriendly, httptools, hf-xet, grpcio, cachetools, bcrypt, asgiref, watchfiles, starlette, rsa, requests-oauthlib, referencing, pyasn1-modules, posthog, opentelemetry-proto, opentelemetry-api, huggingface-hub, googleapis-common-protos, coloredlogs, build, typer, tokenizers, opentelemetry-semantic-conventions, opentelemetry-exporter-otlp-proto-common, onnxruntime, jsonschema-specifications, google-auth, fastapi, opentelemetry-sdk, opentelemetry-instrumentation, kubernetes, jsonschema, opentelemetry-instrumentation-asgi, opentelemetry-exporter-otlp-proto-grpc, opentelemetry-instrumentation-fastapi, chromadb\n",
      "Successfully installed asgiref-3.8.1 bcrypt-4.3.0 build-1.2.2.post1 cachetools-5.5.2 chromadb-1.0.12 coloredlogs-15.0.1 durationpy-0.10 fastapi-0.115.9 flatbuffers-25.2.10 google-auth-2.40.3 googleapis-common-protos-1.70.0 grpcio-1.73.0 hf-xet-1.1.3 httptools-0.6.4 huggingface-hub-0.33.0 humanfriendly-10.0 importlib-resources-6.5.2 jsonschema-4.24.0 jsonschema-specifications-2025.4.1 kubernetes-33.1.0 mmh3-5.1.0 oauthlib-3.2.2 onnxruntime-1.22.0 opentelemetry-api-1.34.1 opentelemetry-exporter-otlp-proto-common-1.34.1 opentelemetry-exporter-otlp-proto-grpc-1.34.1 opentelemetry-instrumentation-0.55b1 opentelemetry-instrumentation-asgi-0.55b1 opentelemetry-instrumentation-fastapi-0.55b1 opentelemetry-proto-1.34.1 opentelemetry-sdk-1.34.1 opentelemetry-semantic-conventions-0.55b1 opentelemetry-util-http-0.55b1 overrides-7.7.0 posthog-4.8.0 protobuf-5.29.5 pyasn1-0.6.1 pyasn1-modules-0.4.2 pypika-0.48.9 pyproject_hooks-1.2.0 referencing-0.36.2 requests-oauthlib-2.0.0 rpds-py-0.25.1 rsa-4.9.1 shellingham-1.5.4 starlette-0.45.3 tokenizers-0.21.1 typer-0.16.0 uvicorn-0.34.3 uvloop-0.21.0 watchfiles-1.0.5 websocket-client-1.8.0 websockets-15.0.1\n"
     ]
    }
   ],
   "source": [
    "!pip install --upgrade langchain langchain-community pypdf unstructured pdfminer pymupdf openai tiktoken langchain-openai chromadb"
   ]
  },
  {
   "cell_type": "code",
   "execution_count": 36,
   "id": "fd79c3fe",
   "metadata": {},
   "outputs": [],
   "source": [
    "import os\n",
    "\n",
    "from langchain.document_loaders import PyMuPDFLoader\n",
    "from langchain.text_splitter import RecursiveCharacterTextSplitter\n",
    "from langchain.vectorstores import Chroma\n",
    "from langchain_openai import OpenAIEmbeddings, OpenAI\n",
    "from langchain_core.documents.base import Document\n",
    "from langchain_core.prompts import ChatPromptTemplate\n"
   ]
  },
  {
   "cell_type": "code",
   "execution_count": null,
   "id": "30001f03",
   "metadata": {},
   "outputs": [],
   "source": [
    "documnet = PyMuPDFLoader(file_path=\"./data/sber_agents.pdf\", mode=\"single\").load()"
   ]
  },
  {
   "cell_type": "code",
   "execution_count": 15,
   "id": "816e9c97",
   "metadata": {},
   "outputs": [
    {
     "name": "stdout",
     "output_type": "stream",
     "text": [
      "total chunks amount: 175\n"
     ]
    }
   ],
   "source": [
    "text_splitter = RecursiveCharacterTextSplitter(\n",
    "    chunk_size=1000,\n",
    "    chunk_overlap=200,\n",
    ")\n",
    "\n",
    "chunks = text_splitter.split_documents(documnet)\n",
    "\n",
    "print(f\"total chunks amount: {len(chunks)}\")"
   ]
  },
  {
   "cell_type": "code",
   "execution_count": 16,
   "id": "58770fea",
   "metadata": {},
   "outputs": [
    {
     "data": {
      "text/plain": [
       "'от этой базы данных?»\\n\\x0cРазработка и применение мультиагентных систем в корпоративной среде\\n20\\nВажно помнить, что история сообщений пользователя, являющаяся неотъемлемой \\nчастью памяти агента, может содержать в себе персональные данные или коммер-\\nческую тайну, которая требует соответствующих механизмов защиты информации. \\nБолее детально аспект безопасного хранения памяти агентов отражен в разделе 3.5 \\n«Хранение памяти AI-агентов».\\nВ \\nследующем \\nпримере \\nкода \\nдемонстрируется \\nсохранение \\nпредоставленного \\nпользователем описания задачи, а также заполненных секций Lean Canvas в памяти \\nLean Canvas AI-агента с помощью функционала state management:\\n1\\n2\\n3\\n4\\n5\\n6\\n7\\n8\\n9\\n10\\n11\\n12\\n13\\n14\\nfrom\\nimport\\nfrom\\nclass\\n langgraph.graph \\n END, START, StateGraph\\n typing_extensions import TypedDict, Annotated\\n\\xa0\\n LeanGraphState(TypedDict):\\n\\xa0\\xa0\\xa0 main_task: Annotated[str, \\n]\\n\\xa0\\n\\xa0\\xa0\\xa0 # Lean Canvas\\n\\xa0\\xa0\\xa0 problem: Annotated[str, \\n]\\n\\xa0\\xa0\\xa0 solution: Annotated[str, \\n]\\n\\xa0\\xa0\\xa0 key_metrics: Annotated[str, \\n]\\u2028\\n\\xa0\\xa0\\xa0 …'"
      ]
     },
     "execution_count": 16,
     "metadata": {},
     "output_type": "execute_result"
    }
   ],
   "source": [
    "chunks[42].page_content"
   ]
  },
  {
   "cell_type": "code",
   "execution_count": 12,
   "id": "9bae79dd",
   "metadata": {},
   "outputs": [
    {
     "data": {
      "text/plain": [
       "1024"
      ]
     },
     "execution_count": 12,
     "metadata": {},
     "output_type": "execute_result"
    }
   ],
   "source": [
    "emb_model = OpenAIEmbeddings(\n",
    "    model=\"text-embedding-intfloat-multilingual-e5-large-instruct\",\n",
    "    openai_api_base=\"http://localhost:8888/v1\",\n",
    "    api_key=\"bla-bla-bla\",\n",
    "    check_embedding_ctx_length=False,\n",
    ")\n",
    "\n",
    "querry = \"Привет! Как дела?\"\n",
    "len(emb_model.embed_query(querry))"
   ]
  },
  {
   "cell_type": "code",
   "execution_count": 22,
   "id": "65e5cb40",
   "metadata": {},
   "outputs": [],
   "source": [
    "CHROMA_PATH = \"./data/chroma_db\"\n",
    "\n",
    "db = Chroma.from_documents(\n",
    "    documents=chunks, embedding=emb_model, persist_directory=CHROMA_PATH\n",
    ")"
   ]
  },
  {
   "cell_type": "code",
   "execution_count": 23,
   "id": "d52bd0bc",
   "metadata": {},
   "outputs": [
    {
     "data": {
      "text/plain": [
       "[(Document(metadata={'creator': '', 'source': 'sber_agents.pdf', 'subject': '', 'total_pages': 80, 'creationdate': '', 'file_path': 'sber_agents.pdf', 'moddate': '2025-06-02T06:06:06+00:00', 'creationDate': '', 'format': 'PDF 1.7', 'title': '', 'producer': 'Pdftools SDK', 'keywords': '', 'modDate': 'D:20250602060606Z', 'author': '', 'trapped': ''}, page_content='ративной среде.\\nGigaChat,\\nМы надеемся, что этот документ станет для вас ценным и полезным ресурсом\\u2028\\nна пути освоения и внедрения современных AI-технологий.\\n\\x0cЧто такое \\u2028\\n        AI-агент?\\n1.0\\n\\x0cРазработка и применение мультиагентных систем в корпоративной среде\\n6\\nAI-агент \\u2028\\n       или агентная \\u2028\\nсистема — \\nэто автоматизированная система, соответствующая трем критериям:\\n01\\nпланированию действий — \\nспособности понять пот-\\nребности человека и пост-\\nроить план действий;\\n02\\nвыполнению плана — спо-\\nсобности самостоятельно \\nсовершить указанные дейс-\\nтвия, в том числе исполь-\\nзуя агентные инструменты \\nдля взаимодействия с вне-\\nшней средой;\\n03\\nавтономности — наличию \\nполномочий \\nисполнять \\nплан без необходимости \\nпредварительного \\nсогла-\\nсования шагов с человеком.\\nАвтономность AI-агентов качественно \\nотличает их от традиционных \\nавтоматизированных систем.\\nЭволюцию агентных систем можно проследить\\u2028\\nна следующей диаграмме.\\nПромптинг больших \\nязыковых моделей\\nАгентный конвейер\\nСамостоятельное'),\n",
       "  0.30479151010513306),\n",
       " (Document(metadata={'source': 'sber_agents.pdf', 'trapped': '', 'format': 'PDF 1.7', 'moddate': '2025-06-02T06:06:06+00:00', 'producer': 'Pdftools SDK', 'keywords': '', 'total_pages': 80, 'modDate': 'D:20250602060606Z', 'title': '', 'author': '', 'creator': '', 'creationdate': '', 'subject': '', 'creationDate': '', 'file_path': 'sber_agents.pdf'}, page_content='исключения. AI-агенты подобного рода \\nдолжны \\nразрабатываться \\nкомандами \\nвладельцев автоматизированных систем. \\nТаких агентов далее мы будем называть \\n.\\nпродуктовыми агентами\\nНа схеме ниже продемонстрировано вза-\\nимодействие разных типов агентов. Бла-\\nгодаря двум различным измерениям — \\nэкспертности и характеру взаимодейс-\\nтвия — агенты образуют сложную мат-\\nрицу взаимосвязей. Именно эта структура \\nпозволяет группам экспертов эффективно \\nрешать сложные задачи.\\nЧЕЛОВЕК\\nПоверхность партнёра 1\\nПоверхность партнёра 2\\nПоверхность партнёра 3\\nПоверхности …\\nПлатформа\\nAI Hub\\nAI Hub\\nAI Hub\\nУровень \\nдействий\\nУровень \\nвзаимодействия\\nУровень \\nзнаний\\nУровень \\nуслуг\\nУровень \\nкоординации\\nАгент\\nвзаимодействия\\nАгент\\nвзаимодействия\\nАгент\\nвзаимодействия\\nGigaPlatform\\nLLM \\nFunction/Agent \\nRegistry\\nRAG\\nLoRA\\nASR / TTS\\nAgent Manager\\nMemory Functions \\nPlatform\\nАгент\\nвзаимодействия\\nАгент\\nвзаимодействия\\nАгент -координатор\\nАгент -координатор\\nАгент -координатор\\nЦифровой двойник \\nкомпании\\nЦифровой двойник'),\n",
       "  0.3158382773399353),\n",
       " (Document(metadata={'author': '', 'subject': '', 'trapped': '', 'modDate': 'D:20250602060606Z', 'total_pages': 80, 'source': 'sber_agents.pdf', 'creator': '', 'moddate': '2025-06-02T06:06:06+00:00', 'title': '', 'file_path': 'sber_agents.pdf', 'producer': 'Pdftools SDK', 'creationDate': '', 'creationdate': '', 'format': 'PDF 1.7', 'keywords': ''}, page_content='мультимодальные данные (на основе Указа \\nПрезидента РФ от 10.10.2019 № 490).\\nAI-агент — система на базе генеративного \\nискусственного \\nинтеллекта, \\nспособная \\nпланировать и совершать автономные \\nдействия во внешней среде, реагировать \\nна изменения и взаимодействовать с че-\\nловеком и другими агентами для дости-\\nжения поставленных целей.\\nУровень \\nагентности \\n(Агентность) \\n— \\nинтегральный показатель, определяющий \\nпринадлежность к определенному типу \\nагента (агент, интеллектуальный агент,\\u2028\\nAI-агент), сформированный на основании \\nоценки ее способности:\\nÔ принимать роль и выполнять \\u2028\\nзадачу в ее рамкахÎ\\nÔ понимать запрос, планировать \\u2028\\nи выполнять задачуÎ\\nÔ иметь знания о контексте и истории, \\u2028\\nдля кого выполняется действиеÎ\\nÔ иметь знания по заданной \\u2028\\nпредметной областиÎ\\nÔ самостоятельно выполнять действия.\\nМультиагентная \\nсистема \\n— \\nсистема, \\nсостоящая из множества агентов, которые \\nвзаимодействуют друг с другом для дости-\\nжения общих целей.\\nПользователь AI-агента — любое авто-'),\n",
       "  0.3174852728843689)]"
      ]
     },
     "execution_count": 23,
     "metadata": {},
     "output_type": "execute_result"
    }
   ],
   "source": [
    "query_text = \"Что такое агент?\"\n",
    "\n",
    "querry_vec = emb_model.embed_query(query_text)\n",
    "\n",
    "relevant_docs = db.similarity_search_by_vector_with_relevance_scores(querry_vec, k=3)\n",
    "relevant_docs"
   ]
  },
  {
   "cell_type": "code",
   "execution_count": 41,
   "id": "dd8dfcea",
   "metadata": {},
   "outputs": [],
   "source": [
    "PROMPT_TEXT = \"\"\"\n",
    "Ответь на вопрос основываясь **только** на информации из контекста\n",
    "\n",
    "Контекст:\n",
    "{context}\n",
    "\n",
    "Отвечай **только** на русском языке, если в контексте нет нужной информации, то ответь, что информации не достаточно.\n",
    "\n",
    "Вопрос: {query}\n",
    "\"\"\""
   ]
  },
  {
   "cell_type": "code",
   "execution_count": 34,
   "id": "0b6d6a1e",
   "metadata": {},
   "outputs": [],
   "source": [
    "def create_context(docs: list[tuple[Document, float]]) -> str:\n",
    "    return \"\\n\\n---\\n\\n\".join(doc.page_content for doc, _ in docs)"
   ]
  },
  {
   "cell_type": "code",
   "execution_count": 35,
   "id": "034d182d",
   "metadata": {},
   "outputs": [],
   "source": [
    "def create_promt(query: str, relevant_docs: list[tuple[Document, float]]):\n",
    "    context_text = create_context(relevant_docs)\n",
    "    prompt_template = ChatPromptTemplate.from_template(PROMPT_TEXT)\n",
    "    return prompt_template.format(context=context_text, query=query)"
   ]
  },
  {
   "cell_type": "code",
   "execution_count": 46,
   "id": "26b25353",
   "metadata": {},
   "outputs": [],
   "source": [
    "llm = OpenAI(\n",
    "    openai_api_base=\"http://localhost:8888/v1\",\n",
    "    api_key=\"bla-bla-bla\",\n",
    "    model=\"qwen2-7b-instruct\",\n",
    ")"
   ]
  },
  {
   "cell_type": "code",
   "execution_count": 39,
   "id": "2a554404",
   "metadata": {},
   "outputs": [],
   "source": [
    "def create_response(qeustion: str) -> str:\n",
    "    qeustion_emb = emb_model.embed_query(qeustion)\n",
    "    relevant_docs = db.similarity_search_by_vector_with_relevance_scores(\n",
    "        qeustion_emb, k=3\n",
    "    )\n",
    "    prompt = create_promt(qeustion, relevant_docs)\n",
    "    llm_response = llm.invoke(prompt)\n",
    "\n",
    "    return llm_response"
   ]
  },
  {
   "cell_type": "code",
   "execution_count": 51,
   "id": "6c2efdb1",
   "metadata": {},
   "outputs": [
    {
     "name": "stdout",
     "output_type": "stream",
     "text": [
      " \n",
      "\n",
      "Assistant: Качественные промпы важны, потому что они помогают четко определить задачу и ожидаемый результат. Они упрощают работу модели AI, обеспечивая более точное и эффективное выполнение задания. Промпы могут включать метрики и критерии качества, а также указывать примеры правильных ответов или структуру результата, что помогает модели понять ожидаемые параметры ответа. Кроме того, процесс разработки промпов подразумевает управление не только текстовыми шаблонами, но и частью кода AI-агента. В целом, качественные промпы улучшают продуктивность и эффективность работы с генеративным искусственным интеллектом, обеспечивая стабильность и безопасность в процессе разработки enterprise-решений.\n"
     ]
    }
   ],
   "source": [
    "resp = create_response(\"Почему важно применять качественные промты?\")\n",
    "print(resp)"
   ]
  },
  {
   "cell_type": "code",
   "execution_count": null,
   "id": "40c93cb0",
   "metadata": {},
   "outputs": [],
   "source": []
  }
 ],
 "metadata": {
  "kernelspec": {
   "display_name": "base",
   "language": "python",
   "name": "python3"
  },
  "language_info": {
   "codemirror_mode": {
    "name": "ipython",
    "version": 3
   },
   "file_extension": ".py",
   "mimetype": "text/x-python",
   "name": "python",
   "nbconvert_exporter": "python",
   "pygments_lexer": "ipython3",
   "version": "3.12.9"
  }
 },
 "nbformat": 4,
 "nbformat_minor": 5
}
